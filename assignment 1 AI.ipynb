{
 "cells": [
  {
   "cell_type": "code",
   "execution_count": 3,
   "metadata": {},
   "outputs": [
    {
     "name": "stdout",
     "output_type": "stream",
     "text": [
      "2002,\n",
      "2009,\n",
      "2016,\n",
      "2023,\n",
      "2037,\n",
      "2044,\n",
      "2051,\n",
      "2058,\n",
      "2072,\n",
      "2079,\n",
      "2086,\n",
      "2093,\n",
      "2107,\n",
      "2114,\n",
      "2121,\n",
      "2128,\n",
      "2142,\n",
      "2149,\n",
      "2156,\n",
      "2163,\n",
      "2177,\n",
      "2184,\n",
      "2191,\n",
      "2198,\n",
      "2212,\n",
      "2219,\n",
      "2226,\n",
      "2233,\n",
      "2247,\n",
      "2254,\n",
      "2261,\n",
      "2268,\n",
      "2282,\n",
      "2289,\n",
      "2296,\n",
      "2303,\n",
      "2317,\n",
      "2324,\n",
      "2331,\n",
      "2338,\n",
      "2352,\n",
      "2359,\n",
      "2366,\n",
      "2373,\n",
      "2387,\n",
      "2394,\n",
      "2401,\n",
      "2408,\n",
      "2422,\n",
      "2429,\n",
      "2436,\n",
      "2443,\n",
      "2457,\n",
      "2464,\n",
      "2471,\n",
      "2478,\n",
      "2492,\n",
      "2499,\n",
      "2506,\n",
      "2513,\n",
      "2527,\n",
      "2534,\n",
      "2541,\n",
      "2548,\n",
      "2562,\n",
      "2569,\n",
      "2576,\n",
      "2583,\n",
      "2597,\n",
      "2604,\n",
      "2611,\n",
      "2618,\n",
      "2632,\n",
      "2639,\n",
      "2646,\n",
      "2653,\n",
      "2667,\n",
      "2674,\n",
      "2681,\n",
      "2688,\n",
      "2702,\n",
      "2709,\n",
      "2716,\n",
      "2723,\n",
      "2737,\n",
      "2744,\n",
      "2751,\n",
      "2758,\n",
      "2772,\n",
      "2779,\n",
      "2786,\n",
      "2793,\n",
      "2807,\n",
      "2814,\n",
      "2821,\n",
      "2828,\n",
      "2842,\n",
      "2849,\n",
      "2856,\n",
      "2863,\n",
      "2877,\n",
      "2884,\n",
      "2891,\n",
      "2898,\n",
      "2912,\n",
      "2919,\n",
      "2926,\n",
      "2933,\n",
      "2947,\n",
      "2954,\n",
      "2961,\n",
      "2968,\n",
      "2982,\n",
      "2989,\n",
      "2996,\n",
      "3003,\n",
      "3017,\n",
      "3024,\n",
      "3031,\n",
      "3038,\n",
      "3052,\n",
      "3059,\n",
      "3066,\n",
      "3073,\n",
      "3087,\n",
      "3094,\n",
      "3101,\n",
      "3108,\n",
      "3122,\n",
      "3129,\n",
      "3136,\n",
      "3143,\n",
      "3157,\n",
      "3164,\n",
      "3171,\n",
      "3178,\n",
      "3192,\n",
      "3199,\n"
     ]
    }
   ],
   "source": [
    "for i in range(2000,3201):\n",
    "    if i%7==0 and i%5!=0:\n",
    "        print(f\"{i},\")\n",
    "    "
   ]
  },
  {
   "cell_type": "code",
   "execution_count": 5,
   "metadata": {},
   "outputs": [
    {
     "name": "stdout",
     "output_type": "stream",
     "text": [
      "enter first name and last name with comma sep char: pranjal,sijaria\n",
      "lajnarp airajis\n"
     ]
    }
   ],
   "source": [
    "first_name,last_name=input(\"enter first name and last name with comma sep char: \").split(\",\")\n",
    "print(f\"{first_name[::-1]} {last_name[::-1]}\")"
   ]
  },
  {
   "cell_type": "code",
   "execution_count": 7,
   "metadata": {},
   "outputs": [
    {
     "name": "stdout",
     "output_type": "stream",
     "text": [
      "enter value of r to find vol of sphere : 2\n",
      "volume of sphere: 33.510321638291124\n"
     ]
    }
   ],
   "source": [
    "import math\n",
    "r=int(input(\"enter value of r to find vol of sphere : \"))\n",
    "v=4/3*math.pi*r**3\n",
    "print(f\"volume of sphere: {v}\")"
   ]
  },
  {
   "cell_type": "code",
   "execution_count": 4,
   "metadata": {},
   "outputs": [
    {
     "name": "stdout",
     "output_type": "stream",
     "text": [
      "enter 5 char to store in list : a\n",
      "enter 5 char to store in list : c\n",
      "enter 5 char to store in list : d\n",
      "enter 5 char to store in list : f\n",
      "enter 5 char to store in list : g\n",
      "enter 5 char to store in list : r\n",
      "['a', 'c', 'd', 'f', 'g', 'r']\n",
      "<class 'list'>\n"
     ]
    }
   ],
   "source": [
    "l=[]\n",
    "for i in range(1,7):\n",
    "    a=input(\"enter 5 char to store in list : \")\n",
    "    b=l.append(a)\n",
    "print(l)\n",
    "print(type(l))"
   ]
  },
  {
   "cell_type": "code",
   "execution_count": 75,
   "metadata": {},
   "outputs": [
    {
     "name": "stdout",
     "output_type": "stream",
     "text": [
      "* \n",
      "* * \n",
      "* * * \n",
      "* * * * \n",
      "* * * * * \n"
     ]
    }
   ],
   "source": [
    "for i in range(1,9):\n",
    "    if i<=5:\n",
    "        for j in range(1,i+1):\n",
    "            print(\"*\", end=\" \")\n",
    "        print()\n",
    "        \n",
    "    \n",
    "        "
   ]
  },
  {
   "cell_type": "code",
   "execution_count": 64,
   "metadata": {},
   "outputs": [
    {
     "name": "stdout",
     "output_type": "stream",
     "text": [
      "* \n",
      "* * \n",
      "* * * \n",
      "* * * * \n",
      "* * * * * \n",
      "* * * * \n",
      "* * * \n",
      "* * \n",
      "* \n",
      "\n"
     ]
    }
   ],
   "source": [
    "for i in range(1,6):\n",
    "    for j in range(1,i+1):\n",
    "        print(\"*\", end=\" \")\n",
    "    print()\n",
    "    \n",
    "for i in range(5,0,-1):\n",
    "    for j in range(i-1,0):\n",
    "        print(\"*\", end=\" \")\n",
    "    print()"
   ]
  },
  {
   "cell_type": "code",
   "execution_count": 65,
   "metadata": {},
   "outputs": [
    {
     "name": "stdout",
     "output_type": "stream",
     "text": [
      "dirgdacA\n"
     ]
    }
   ],
   "source": [
    "n=\"Acadgrid\"\n",
    "print(n[::-1])"
   ]
  },
  {
   "cell_type": "code",
   "execution_count": 1,
   "metadata": {},
   "outputs": [
    {
     "name": "stdout",
     "output_type": "stream",
     "text": [
      "WE, THE PEOPLE OF INDIA, \n",
      " \t  having solemnly resolved to constitute India into a SOVEREIGN,! \n",
      " \t\tSOCIALIST, SECULAR, DEMOCRATIC REPUBLIC \n",
      " \t\t and to secure to all its citizens\n"
     ]
    }
   ],
   "source": [
    "print(\"WE, THE PEOPLE OF INDIA, \\n \\t  having solemnly resolved to constitute India into a SOVEREIGN,! \\n \\t\\tSOCIALIST, SECULAR, DEMOCRATIC REPUBLIC \\n \\t\\t and to secure to all its citizens\")"
   ]
  },
  {
   "cell_type": "code",
   "execution_count": null,
   "metadata": {},
   "outputs": [],
   "source": []
  }
 ],
 "metadata": {
  "kernelspec": {
   "display_name": "Python 3",
   "language": "python",
   "name": "python3"
  },
  "language_info": {
   "codemirror_mode": {
    "name": "ipython",
    "version": 3
   },
   "file_extension": ".py",
   "mimetype": "text/x-python",
   "name": "python",
   "nbconvert_exporter": "python",
   "pygments_lexer": "ipython3",
   "version": "3.7.3"
  }
 },
 "nbformat": 4,
 "nbformat_minor": 2
}
